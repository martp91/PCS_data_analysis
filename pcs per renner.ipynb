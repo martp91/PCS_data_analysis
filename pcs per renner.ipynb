{
 "cells": [
  {
   "cell_type": "code",
   "execution_count": 1,
   "id": "ca028292",
   "metadata": {},
   "outputs": [],
   "source": [
    "import requests\n",
    "from bs4 import BeautifulSoup\n",
    "import numpy as np\n",
    "import pandas as pd\n",
    "import matplotlib.pyplot as plt\n",
    "import procyclingstats as pcs\n",
    "import os"
   ]
  },
  {
   "cell_type": "code",
   "execution_count": 2,
   "id": "fb02885b",
   "metadata": {},
   "outputs": [],
   "source": [
    "def get_riders_tdf(season):\n",
    "    url_startlist = f\"https://www.procyclingstats.com/race/tour-de-france/{season}/startlist\"\n",
    "    page = requests.get(url_startlist)\n",
    "    soup = BeautifulSoup(page.content, \"html.parser\")\n",
    "    riders = []\n",
    "    #FIXME There is a bug here, more stuff is being taken\n",
    "    for a in soup.find_all(\"a\", href=True):\n",
    "        href = a['href']\n",
    "        if href.startswith('rider/'):\n",
    "            rider = href[6:]\n",
    "            riders.append(rider)\n",
    "    return riders"
   ]
  },
  {
   "cell_type": "code",
   "execution_count": 14,
   "id": "c23f0cb3",
   "metadata": {},
   "outputs": [],
   "source": [
    "def get_rider_results(rider, season):\n",
    "    url = f\"rider.php?xseason={season}&zxseason=&pxseason=equal&sort=date&race=&km1=&zkm1=&pkm1=equal&limit=200&topx=&ztopx=&ptopx=smallerorequal&type=&znation=&continent=&pnts=&zpnts=&ppnts=equal&level=&rnk=&zrnk=&prnk=equal&exclude_tt=0&racedate=&zracedate=&pracedate=equal&name=&pname=contains&category=&profile_score=&zprofile_score=&pprofile_score=largerorequal&filter=Filter&id={rider}&p=results&s=all\"\n",
    "#     return pcs.RiderResults(url).results('rank', 'stage_name', 'pcs_points')\n",
    "    filename = f'rider_data/{rider}_{season}.csv.gz'\n",
    "    if os.path.exists(filename):\n",
    "        df = pd.read_csv(filename, index_col=0)\n",
    "    else:\n",
    "        df = pd.DataFrame(pcs.RiderResults(url).results())#'rank', 'stage_name', 'distance'))\n",
    "        df['stage_name'] = f\"{season} \" + df['stage_name']\n",
    "        df.to_csv(filename)\n",
    "    return df"
   ]
  },
  {
   "cell_type": "code",
   "execution_count": 34,
   "id": "b3a0b89e",
   "metadata": {},
   "outputs": [
    {
     "data": {
      "text/html": [
       "<div>\n",
       "<style scoped>\n",
       "    .dataframe tbody tr th:only-of-type {\n",
       "        vertical-align: middle;\n",
       "    }\n",
       "\n",
       "    .dataframe tbody tr th {\n",
       "        vertical-align: top;\n",
       "    }\n",
       "\n",
       "    .dataframe thead th {\n",
       "        text-align: right;\n",
       "    }\n",
       "</style>\n",
       "<table border=\"1\" class=\"dataframe\">\n",
       "  <thead>\n",
       "    <tr style=\"text-align: right;\">\n",
       "      <th></th>\n",
       "      <th>date</th>\n",
       "      <th>rank</th>\n",
       "      <th>stage_url</th>\n",
       "      <th>stage_name</th>\n",
       "      <th>nationality</th>\n",
       "      <th>class</th>\n",
       "      <th>distance</th>\n",
       "      <th>pcs_points</th>\n",
       "      <th>uci_points</th>\n",
       "    </tr>\n",
       "  </thead>\n",
       "  <tbody>\n",
       "    <tr>\n",
       "      <th>0</th>\n",
       "      <td>2021-09-01</td>\n",
       "      <td>NaN</td>\n",
       "      <td>race/renewi-tour/2021/stage-3</td>\n",
       "      <td>2021 Benelux Tour | Stage 3</td>\n",
       "      <td>BE</td>\n",
       "      <td>2.UWT</td>\n",
       "      <td>168.3</td>\n",
       "      <td>0</td>\n",
       "      <td>0.0</td>\n",
       "    </tr>\n",
       "    <tr>\n",
       "      <th>1</th>\n",
       "      <td>2021-08-31</td>\n",
       "      <td>33.0</td>\n",
       "      <td>race/renewi-tour/2021/stage-2</td>\n",
       "      <td>2021 Benelux Tour | Stage 2 (ITT)</td>\n",
       "      <td>BE</td>\n",
       "      <td>2.UWT</td>\n",
       "      <td>11.1</td>\n",
       "      <td>0</td>\n",
       "      <td>0.0</td>\n",
       "    </tr>\n",
       "    <tr>\n",
       "      <th>2</th>\n",
       "      <td>2021-08-30</td>\n",
       "      <td>18.0</td>\n",
       "      <td>race/renewi-tour/2021/stage-1</td>\n",
       "      <td>2021 Benelux Tour | Stage 1</td>\n",
       "      <td>BE</td>\n",
       "      <td>2.UWT</td>\n",
       "      <td>169.6</td>\n",
       "      <td>0</td>\n",
       "      <td>0.0</td>\n",
       "    </tr>\n",
       "    <tr>\n",
       "      <th>3</th>\n",
       "      <td>2021-08-01</td>\n",
       "      <td>40.0</td>\n",
       "      <td>race/circuito-de-getxo/2021/result</td>\n",
       "      <td>2021 Circuito de Getxo - Memorial Hermanos Otxoa</td>\n",
       "      <td>ES</td>\n",
       "      <td>1.1</td>\n",
       "      <td>193.5</td>\n",
       "      <td>0</td>\n",
       "      <td>0.0</td>\n",
       "    </tr>\n",
       "    <tr>\n",
       "      <th>4</th>\n",
       "      <td>2021-07-31</td>\n",
       "      <td>NaN</td>\n",
       "      <td>race/san-sebastian/2021/result</td>\n",
       "      <td>2021 Donostia San Sebastian Klasikoa</td>\n",
       "      <td>ES</td>\n",
       "      <td>1.UWT</td>\n",
       "      <td>223.5</td>\n",
       "      <td>0</td>\n",
       "      <td>0.0</td>\n",
       "    </tr>\n",
       "    <tr>\n",
       "      <th>...</th>\n",
       "      <td>...</td>\n",
       "      <td>...</td>\n",
       "      <td>...</td>\n",
       "      <td>...</td>\n",
       "      <td>...</td>\n",
       "      <td>...</td>\n",
       "      <td>...</td>\n",
       "      <td>...</td>\n",
       "      <td>...</td>\n",
       "    </tr>\n",
       "    <tr>\n",
       "      <th>57</th>\n",
       "      <td>2021-03-26</td>\n",
       "      <td>45.0</td>\n",
       "      <td>race/volta-a-catalunya/2021/stage-5</td>\n",
       "      <td>2021 Volta Ciclista a Catalunya | Stage 5</td>\n",
       "      <td>ES</td>\n",
       "      <td>2.UWT</td>\n",
       "      <td>201.1</td>\n",
       "      <td>0</td>\n",
       "      <td>0.0</td>\n",
       "    </tr>\n",
       "    <tr>\n",
       "      <th>58</th>\n",
       "      <td>2021-03-25</td>\n",
       "      <td>8.0</td>\n",
       "      <td>race/volta-a-catalunya/2021/stage-4</td>\n",
       "      <td>2021 Volta Ciclista a Catalunya | Stage 4</td>\n",
       "      <td>ES</td>\n",
       "      <td>2.UWT</td>\n",
       "      <td>166.5</td>\n",
       "      <td>3</td>\n",
       "      <td>0.0</td>\n",
       "    </tr>\n",
       "    <tr>\n",
       "      <th>59</th>\n",
       "      <td>2021-03-24</td>\n",
       "      <td>14.0</td>\n",
       "      <td>race/volta-a-catalunya/2021/stage-3</td>\n",
       "      <td>2021 Volta Ciclista a Catalunya | Stage 3</td>\n",
       "      <td>ES</td>\n",
       "      <td>2.UWT</td>\n",
       "      <td>203.1</td>\n",
       "      <td>0</td>\n",
       "      <td>0.0</td>\n",
       "    </tr>\n",
       "    <tr>\n",
       "      <th>60</th>\n",
       "      <td>2021-03-23</td>\n",
       "      <td>12.0</td>\n",
       "      <td>race/volta-a-catalunya/2021/stage-2</td>\n",
       "      <td>2021 Volta Ciclista a Catalunya | Stage 2 (ITT)</td>\n",
       "      <td>ES</td>\n",
       "      <td>2.UWT</td>\n",
       "      <td>18.5</td>\n",
       "      <td>0</td>\n",
       "      <td>0.0</td>\n",
       "    </tr>\n",
       "    <tr>\n",
       "      <th>61</th>\n",
       "      <td>2021-03-22</td>\n",
       "      <td>42.0</td>\n",
       "      <td>race/volta-a-catalunya/2021/stage-1</td>\n",
       "      <td>2021 Volta Ciclista a Catalunya | Stage 1</td>\n",
       "      <td>ES</td>\n",
       "      <td>2.UWT</td>\n",
       "      <td>178.4</td>\n",
       "      <td>0</td>\n",
       "      <td>0.0</td>\n",
       "    </tr>\n",
       "  </tbody>\n",
       "</table>\n",
       "<p>62 rows × 9 columns</p>\n",
       "</div>"
      ],
      "text/plain": [
       "          date  rank                            stage_url  \\\n",
       "0   2021-09-01   NaN        race/renewi-tour/2021/stage-3   \n",
       "1   2021-08-31  33.0        race/renewi-tour/2021/stage-2   \n",
       "2   2021-08-30  18.0        race/renewi-tour/2021/stage-1   \n",
       "3   2021-08-01  40.0   race/circuito-de-getxo/2021/result   \n",
       "4   2021-07-31   NaN       race/san-sebastian/2021/result   \n",
       "..         ...   ...                                  ...   \n",
       "57  2021-03-26  45.0  race/volta-a-catalunya/2021/stage-5   \n",
       "58  2021-03-25   8.0  race/volta-a-catalunya/2021/stage-4   \n",
       "59  2021-03-24  14.0  race/volta-a-catalunya/2021/stage-3   \n",
       "60  2021-03-23  12.0  race/volta-a-catalunya/2021/stage-2   \n",
       "61  2021-03-22  42.0  race/volta-a-catalunya/2021/stage-1   \n",
       "\n",
       "                                          stage_name nationality  class  \\\n",
       "0                        2021 Benelux Tour | Stage 3          BE  2.UWT   \n",
       "1                  2021 Benelux Tour | Stage 2 (ITT)          BE  2.UWT   \n",
       "2                        2021 Benelux Tour | Stage 1          BE  2.UWT   \n",
       "3   2021 Circuito de Getxo - Memorial Hermanos Otxoa          ES    1.1   \n",
       "4               2021 Donostia San Sebastian Klasikoa          ES  1.UWT   \n",
       "..                                               ...         ...    ...   \n",
       "57         2021 Volta Ciclista a Catalunya | Stage 5          ES  2.UWT   \n",
       "58         2021 Volta Ciclista a Catalunya | Stage 4          ES  2.UWT   \n",
       "59         2021 Volta Ciclista a Catalunya | Stage 3          ES  2.UWT   \n",
       "60   2021 Volta Ciclista a Catalunya | Stage 2 (ITT)          ES  2.UWT   \n",
       "61         2021 Volta Ciclista a Catalunya | Stage 1          ES  2.UWT   \n",
       "\n",
       "    distance  pcs_points  uci_points  \n",
       "0      168.3           0         0.0  \n",
       "1       11.1           0         0.0  \n",
       "2      169.6           0         0.0  \n",
       "3      193.5           0         0.0  \n",
       "4      223.5           0         0.0  \n",
       "..       ...         ...         ...  \n",
       "57     201.1           0         0.0  \n",
       "58     166.5           3         0.0  \n",
       "59     203.1           0         0.0  \n",
       "60      18.5           0         0.0  \n",
       "61     178.4           0         0.0  \n",
       "\n",
       "[62 rows x 9 columns]"
      ]
     },
     "execution_count": 34,
     "metadata": {},
     "output_type": "execute_result"
    }
   ],
   "source": [
    "get_rider_results('wilco-kelderman', 2021)\n"
   ]
  },
  {
   "cell_type": "code",
   "execution_count": 35,
   "id": "205262b5",
   "metadata": {},
   "outputs": [],
   "source": [
    "def get_mean_pcs_points_rank(df):\n",
    "    df_ = df[~df['stage_name'].str.contains('Tour de France')]\n",
    "    return np.mean(df_['pcs_points'])/np.mean(df_['rank'])\n",
    "\n",
    "def get_rider_stats(rider, season):\n",
    "    \n",
    "    results_0 = get_rider_results(rider, season)\n",
    "    results_1 = get_rider_results(rider, season-1)\n",
    "    results_2 = get_rider_results(rider, season-2)\n",
    "\n",
    "    score_0 = get_mean_pcs_points_rank(results_0)\n",
    "    score_1 = get_mean_pcs_points_rank(results_1)\n",
    "    score_2 = get_mean_pcs_points_rank(results_2)\n",
    "\n",
    "    tdf_0 = results_0[results_0['stage_name'].str.contains('Tour de France')]\n",
    "    \n",
    "    if not tdf_0.empty:\n",
    "        try:\n",
    "            rank_gc = tdf_0[tdf_0['stage_name'] == f'{season} Tour de France']['rank'].iloc[0]\n",
    "        except (KeyError, IndexError):\n",
    "            rank_gc = np.nan\n",
    "        try:\n",
    "            rank_points = tdf_0[tdf_0['stage_name'] == f'{season} Tour de France | Points classification']['rank'].iloc[0]\n",
    "        except (KeyError, IndexError):\n",
    "            rank_points = np.nan\n",
    "        try:\n",
    "            rank_mount = tdf_0[tdf_0['stage_name'] == f'{season} Tour de France | Mountains classification']['rank'].iloc[0]\n",
    "        except (KeyError, IndexError):\n",
    "            rank_mount = np.nan\n",
    "        try:\n",
    "            rank_youth = tdf_0[tdf_0['stage_name'] == f'{season} Tour de France | Youth classification']['rank'].iloc[0]\n",
    "        except (KeyError, IndexError):\n",
    "            rank_youth = np.nan\n",
    "\n",
    "        stages = tdf_0[tdf_0['stage_name'].str.contains('Stage')]\n",
    "        ranks = stages['rank']\n",
    "        stages_mean = np.nanmean(ranks)\n",
    "        stages_min = np.nanmin(ranks)\n",
    "        stages_med = np.nanmedian(ranks)\n",
    "    else:\n",
    "        rank_gc, rank_mount, rank_youth, rank_points, stages_mean, stages_med, stages_min = 7 * (np.nan, )\n",
    "        \n",
    "    #TODO should save col names somewhere\n",
    "    return score_0, score_1, score_2, rank_gc, rank_points, rank_mount, rank_youth, stages_mean, stages_min, stages_med\n",
    "        \n",
    "\n",
    "def get_all_data_from_riders(season, nX=3, ny=7):\n",
    "    riders = get_riders_tdf(season)\n",
    "    nriders = len(riders)\n",
    "    X = np.zeros((nriders, nX+ny))\n",
    "\n",
    "    for i, rider in enumerate(riders):\n",
    "        try:\n",
    "            X[i] = get_rider_stats(rider, season)\n",
    "        except:\n",
    "            X[i] = (nX+ny) * [np.nan]\n",
    "    return X, riders\n",
    "\n"
   ]
  },
  {
   "cell_type": "code",
   "execution_count": 36,
   "id": "f7980224",
   "metadata": {},
   "outputs": [
    {
     "data": {
      "text/plain": [
       "(0.545957284515637,\n",
       " 0.8730305838739575,\n",
       " 0.28145256055494483,\n",
       " 5.0,\n",
       " 23.0,\n",
       " 24.0,\n",
       " nan,\n",
       " 25.285714285714285,\n",
       " 4.0,\n",
       " 25.0)"
      ]
     },
     "execution_count": 36,
     "metadata": {},
     "output_type": "execute_result"
    }
   ],
   "source": [
    "get_rider_stats('wilco-kelderman', 2021)"
   ]
  },
  {
   "cell_type": "code",
   "execution_count": 37,
   "id": "85a08b4c",
   "metadata": {},
   "outputs": [
    {
     "name": "stdout",
     "output_type": "stream",
     "text": [
      "2000\n"
     ]
    },
    {
     "name": "stderr",
     "output_type": "stream",
     "text": [
      "/tmp/ipykernel_218855/32953284.py:38: RuntimeWarning: Mean of empty slice\n",
      "  stages_mean = np.nanmean(ranks)\n",
      "/tmp/ipykernel_218855/32953284.py:39: RuntimeWarning: All-NaN axis encountered\n",
      "  stages_min = np.nanmin(ranks)\n",
      "/home/mart/anaconda3/envs/pcs/lib/python3.10/site-packages/numpy/lib/nanfunctions.py:1218: RuntimeWarning: All-NaN slice encountered\n",
      "  r, k = function_base._ureduce(a, func=_nanmedian, axis=axis, out=out,\n",
      "/tmp/ipykernel_218855/32953284.py:38: RuntimeWarning: Mean of empty slice\n",
      "  stages_mean = np.nanmean(ranks)\n",
      "/tmp/ipykernel_218855/32953284.py:39: RuntimeWarning: All-NaN axis encountered\n",
      "  stages_min = np.nanmin(ranks)\n",
      "/home/mart/anaconda3/envs/pcs/lib/python3.10/site-packages/numpy/lib/nanfunctions.py:1218: RuntimeWarning: All-NaN slice encountered\n",
      "  r, k = function_base._ureduce(a, func=_nanmedian, axis=axis, out=out,\n",
      "/tmp/ipykernel_218855/32953284.py:38: RuntimeWarning: Mean of empty slice\n",
      "  stages_mean = np.nanmean(ranks)\n",
      "/tmp/ipykernel_218855/32953284.py:39: RuntimeWarning: All-NaN axis encountered\n",
      "  stages_min = np.nanmin(ranks)\n",
      "/home/mart/anaconda3/envs/pcs/lib/python3.10/site-packages/numpy/lib/nanfunctions.py:1218: RuntimeWarning: All-NaN slice encountered\n",
      "  r, k = function_base._ureduce(a, func=_nanmedian, axis=axis, out=out,\n"
     ]
    },
    {
     "name": "stdout",
     "output_type": "stream",
     "text": [
      "2001\n"
     ]
    },
    {
     "name": "stderr",
     "output_type": "stream",
     "text": [
      "/tmp/ipykernel_218855/32953284.py:38: RuntimeWarning: Mean of empty slice\n",
      "  stages_mean = np.nanmean(ranks)\n",
      "/tmp/ipykernel_218855/32953284.py:39: RuntimeWarning: All-NaN axis encountered\n",
      "  stages_min = np.nanmin(ranks)\n",
      "/home/mart/anaconda3/envs/pcs/lib/python3.10/site-packages/numpy/lib/nanfunctions.py:1218: RuntimeWarning: All-NaN slice encountered\n",
      "  r, k = function_base._ureduce(a, func=_nanmedian, axis=axis, out=out,\n"
     ]
    },
    {
     "name": "stdout",
     "output_type": "stream",
     "text": [
      "2002\n",
      "2003\n",
      "2004\n"
     ]
    },
    {
     "name": "stderr",
     "output_type": "stream",
     "text": [
      "/tmp/ipykernel_218855/32953284.py:38: RuntimeWarning: Mean of empty slice\n",
      "  stages_mean = np.nanmean(ranks)\n",
      "/tmp/ipykernel_218855/32953284.py:39: RuntimeWarning: All-NaN axis encountered\n",
      "  stages_min = np.nanmin(ranks)\n",
      "/home/mart/anaconda3/envs/pcs/lib/python3.10/site-packages/numpy/lib/nanfunctions.py:1218: RuntimeWarning: All-NaN slice encountered\n",
      "  r, k = function_base._ureduce(a, func=_nanmedian, axis=axis, out=out,\n"
     ]
    },
    {
     "name": "stdout",
     "output_type": "stream",
     "text": [
      "2005\n",
      "2006\n",
      "2007\n"
     ]
    },
    {
     "name": "stderr",
     "output_type": "stream",
     "text": [
      "/tmp/ipykernel_218855/32953284.py:38: RuntimeWarning: Mean of empty slice\n",
      "  stages_mean = np.nanmean(ranks)\n",
      "/tmp/ipykernel_218855/32953284.py:39: RuntimeWarning: All-NaN axis encountered\n",
      "  stages_min = np.nanmin(ranks)\n",
      "/home/mart/anaconda3/envs/pcs/lib/python3.10/site-packages/numpy/lib/nanfunctions.py:1218: RuntimeWarning: All-NaN slice encountered\n",
      "  r, k = function_base._ureduce(a, func=_nanmedian, axis=axis, out=out,\n"
     ]
    },
    {
     "name": "stdout",
     "output_type": "stream",
     "text": [
      "2008\n"
     ]
    },
    {
     "name": "stderr",
     "output_type": "stream",
     "text": [
      "/tmp/ipykernel_218855/32953284.py:38: RuntimeWarning: Mean of empty slice\n",
      "  stages_mean = np.nanmean(ranks)\n",
      "/tmp/ipykernel_218855/32953284.py:39: RuntimeWarning: All-NaN axis encountered\n",
      "  stages_min = np.nanmin(ranks)\n",
      "/home/mart/anaconda3/envs/pcs/lib/python3.10/site-packages/numpy/lib/nanfunctions.py:1218: RuntimeWarning: All-NaN slice encountered\n",
      "  r, k = function_base._ureduce(a, func=_nanmedian, axis=axis, out=out,\n"
     ]
    },
    {
     "name": "stdout",
     "output_type": "stream",
     "text": [
      "2009\n",
      "2010\n"
     ]
    },
    {
     "name": "stderr",
     "output_type": "stream",
     "text": [
      "/tmp/ipykernel_218855/32953284.py:38: RuntimeWarning: Mean of empty slice\n",
      "  stages_mean = np.nanmean(ranks)\n",
      "/tmp/ipykernel_218855/32953284.py:39: RuntimeWarning: All-NaN axis encountered\n",
      "  stages_min = np.nanmin(ranks)\n",
      "/home/mart/anaconda3/envs/pcs/lib/python3.10/site-packages/numpy/lib/nanfunctions.py:1218: RuntimeWarning: All-NaN slice encountered\n",
      "  r, k = function_base._ureduce(a, func=_nanmedian, axis=axis, out=out,\n",
      "/tmp/ipykernel_218855/32953284.py:38: RuntimeWarning: Mean of empty slice\n",
      "  stages_mean = np.nanmean(ranks)\n",
      "/tmp/ipykernel_218855/32953284.py:39: RuntimeWarning: All-NaN axis encountered\n",
      "  stages_min = np.nanmin(ranks)\n",
      "/home/mart/anaconda3/envs/pcs/lib/python3.10/site-packages/numpy/lib/nanfunctions.py:1218: RuntimeWarning: All-NaN slice encountered\n",
      "  r, k = function_base._ureduce(a, func=_nanmedian, axis=axis, out=out,\n"
     ]
    },
    {
     "name": "stdout",
     "output_type": "stream",
     "text": [
      "2011\n",
      "2012\n",
      "2013\n",
      "2014\n"
     ]
    },
    {
     "name": "stderr",
     "output_type": "stream",
     "text": [
      "/home/mart/anaconda3/envs/pcs/lib/python3.10/site-packages/numpy/core/fromnumeric.py:3474: RuntimeWarning: Mean of empty slice.\n",
      "  return _methods._mean(a, axis=axis, dtype=dtype,\n",
      "/home/mart/anaconda3/envs/pcs/lib/python3.10/site-packages/numpy/core/_methods.py:189: RuntimeWarning: invalid value encountered in double_scalars\n",
      "  ret = ret.dtype.type(ret / rcount)\n",
      "/tmp/ipykernel_218855/32953284.py:38: RuntimeWarning: Mean of empty slice\n",
      "  stages_mean = np.nanmean(ranks)\n"
     ]
    },
    {
     "name": "stdout",
     "output_type": "stream",
     "text": [
      "2015\n",
      "2016\n"
     ]
    },
    {
     "name": "stderr",
     "output_type": "stream",
     "text": [
      "/tmp/ipykernel_218855/32953284.py:38: RuntimeWarning: Mean of empty slice\n",
      "  stages_mean = np.nanmean(ranks)\n"
     ]
    },
    {
     "name": "stdout",
     "output_type": "stream",
     "text": [
      "2017\n"
     ]
    },
    {
     "name": "stderr",
     "output_type": "stream",
     "text": [
      "/tmp/ipykernel_218855/32953284.py:38: RuntimeWarning: Mean of empty slice\n",
      "  stages_mean = np.nanmean(ranks)\n",
      "/tmp/ipykernel_218855/32953284.py:39: RuntimeWarning: All-NaN axis encountered\n",
      "  stages_min = np.nanmin(ranks)\n",
      "/home/mart/anaconda3/envs/pcs/lib/python3.10/site-packages/numpy/lib/nanfunctions.py:1218: RuntimeWarning: All-NaN slice encountered\n",
      "  r, k = function_base._ureduce(a, func=_nanmedian, axis=axis, out=out,\n",
      "/tmp/ipykernel_218855/32953284.py:38: RuntimeWarning: Mean of empty slice\n",
      "  stages_mean = np.nanmean(ranks)\n",
      "/tmp/ipykernel_218855/32953284.py:39: RuntimeWarning: All-NaN axis encountered\n",
      "  stages_min = np.nanmin(ranks)\n",
      "/home/mart/anaconda3/envs/pcs/lib/python3.10/site-packages/numpy/lib/nanfunctions.py:1218: RuntimeWarning: All-NaN slice encountered\n",
      "  r, k = function_base._ureduce(a, func=_nanmedian, axis=axis, out=out,\n",
      "/tmp/ipykernel_218855/32953284.py:38: RuntimeWarning: Mean of empty slice\n",
      "  stages_mean = np.nanmean(ranks)\n",
      "/tmp/ipykernel_218855/32953284.py:38: RuntimeWarning: Mean of empty slice\n",
      "  stages_mean = np.nanmean(ranks)\n",
      "/home/mart/anaconda3/envs/pcs/lib/python3.10/site-packages/numpy/core/fromnumeric.py:3474: RuntimeWarning: Mean of empty slice.\n",
      "  return _methods._mean(a, axis=axis, dtype=dtype,\n",
      "/home/mart/anaconda3/envs/pcs/lib/python3.10/site-packages/numpy/core/_methods.py:189: RuntimeWarning: invalid value encountered in double_scalars\n",
      "  ret = ret.dtype.type(ret / rcount)\n"
     ]
    },
    {
     "name": "stdout",
     "output_type": "stream",
     "text": [
      "2018\n"
     ]
    },
    {
     "name": "stderr",
     "output_type": "stream",
     "text": [
      "/home/mart/anaconda3/envs/pcs/lib/python3.10/site-packages/numpy/core/fromnumeric.py:3474: RuntimeWarning: Mean of empty slice.\n",
      "  return _methods._mean(a, axis=axis, dtype=dtype,\n",
      "/home/mart/anaconda3/envs/pcs/lib/python3.10/site-packages/numpy/core/_methods.py:189: RuntimeWarning: invalid value encountered in double_scalars\n",
      "  ret = ret.dtype.type(ret / rcount)\n",
      "/home/mart/anaconda3/envs/pcs/lib/python3.10/site-packages/numpy/core/fromnumeric.py:3474: RuntimeWarning: Mean of empty slice.\n",
      "  return _methods._mean(a, axis=axis, dtype=dtype,\n",
      "/home/mart/anaconda3/envs/pcs/lib/python3.10/site-packages/numpy/core/_methods.py:189: RuntimeWarning: invalid value encountered in double_scalars\n",
      "  ret = ret.dtype.type(ret / rcount)\n"
     ]
    },
    {
     "name": "stdout",
     "output_type": "stream",
     "text": [
      "2019\n"
     ]
    },
    {
     "name": "stderr",
     "output_type": "stream",
     "text": [
      "/home/mart/anaconda3/envs/pcs/lib/python3.10/site-packages/numpy/core/fromnumeric.py:3474: RuntimeWarning: Mean of empty slice.\n",
      "  return _methods._mean(a, axis=axis, dtype=dtype,\n",
      "/home/mart/anaconda3/envs/pcs/lib/python3.10/site-packages/numpy/core/_methods.py:189: RuntimeWarning: invalid value encountered in double_scalars\n",
      "  ret = ret.dtype.type(ret / rcount)\n",
      "/tmp/ipykernel_218855/32953284.py:38: RuntimeWarning: Mean of empty slice\n",
      "  stages_mean = np.nanmean(ranks)\n",
      "/home/mart/anaconda3/envs/pcs/lib/python3.10/site-packages/numpy/core/fromnumeric.py:3474: RuntimeWarning: Mean of empty slice.\n",
      "  return _methods._mean(a, axis=axis, dtype=dtype,\n",
      "/home/mart/anaconda3/envs/pcs/lib/python3.10/site-packages/numpy/core/_methods.py:189: RuntimeWarning: invalid value encountered in double_scalars\n",
      "  ret = ret.dtype.type(ret / rcount)\n"
     ]
    },
    {
     "name": "stdout",
     "output_type": "stream",
     "text": [
      "2020\n"
     ]
    },
    {
     "name": "stderr",
     "output_type": "stream",
     "text": [
      "/tmp/ipykernel_218855/32953284.py:38: RuntimeWarning: Mean of empty slice\n",
      "  stages_mean = np.nanmean(ranks)\n",
      "/tmp/ipykernel_218855/32953284.py:39: RuntimeWarning: All-NaN axis encountered\n",
      "  stages_min = np.nanmin(ranks)\n",
      "/home/mart/anaconda3/envs/pcs/lib/python3.10/site-packages/numpy/lib/nanfunctions.py:1218: RuntimeWarning: All-NaN slice encountered\n",
      "  r, k = function_base._ureduce(a, func=_nanmedian, axis=axis, out=out,\n",
      "/tmp/ipykernel_218855/32953284.py:38: RuntimeWarning: Mean of empty slice\n",
      "  stages_mean = np.nanmean(ranks)\n",
      "/tmp/ipykernel_218855/32953284.py:38: RuntimeWarning: Mean of empty slice\n",
      "  stages_mean = np.nanmean(ranks)\n",
      "/tmp/ipykernel_218855/32953284.py:38: RuntimeWarning: Mean of empty slice\n",
      "  stages_mean = np.nanmean(ranks)\n"
     ]
    },
    {
     "name": "stdout",
     "output_type": "stream",
     "text": [
      "2021\n"
     ]
    },
    {
     "name": "stderr",
     "output_type": "stream",
     "text": [
      "/tmp/ipykernel_218855/32953284.py:38: RuntimeWarning: Mean of empty slice\n",
      "  stages_mean = np.nanmean(ranks)\n",
      "/tmp/ipykernel_218855/32953284.py:39: RuntimeWarning: All-NaN axis encountered\n",
      "  stages_min = np.nanmin(ranks)\n",
      "/home/mart/anaconda3/envs/pcs/lib/python3.10/site-packages/numpy/lib/nanfunctions.py:1218: RuntimeWarning: All-NaN slice encountered\n",
      "  r, k = function_base._ureduce(a, func=_nanmedian, axis=axis, out=out,\n",
      "/tmp/ipykernel_218855/32953284.py:38: RuntimeWarning: Mean of empty slice\n",
      "  stages_mean = np.nanmean(ranks)\n",
      "/tmp/ipykernel_218855/32953284.py:39: RuntimeWarning: All-NaN axis encountered\n",
      "  stages_min = np.nanmin(ranks)\n",
      "/home/mart/anaconda3/envs/pcs/lib/python3.10/site-packages/numpy/lib/nanfunctions.py:1218: RuntimeWarning: All-NaN slice encountered\n",
      "  r, k = function_base._ureduce(a, func=_nanmedian, axis=axis, out=out,\n",
      "/tmp/ipykernel_218855/32953284.py:38: RuntimeWarning: Mean of empty slice\n",
      "  stages_mean = np.nanmean(ranks)\n",
      "/tmp/ipykernel_218855/32953284.py:39: RuntimeWarning: All-NaN axis encountered\n",
      "  stages_min = np.nanmin(ranks)\n",
      "/home/mart/anaconda3/envs/pcs/lib/python3.10/site-packages/numpy/lib/nanfunctions.py:1218: RuntimeWarning: All-NaN slice encountered\n",
      "  r, k = function_base._ureduce(a, func=_nanmedian, axis=axis, out=out,\n",
      "/tmp/ipykernel_218855/32953284.py:38: RuntimeWarning: Mean of empty slice\n",
      "  stages_mean = np.nanmean(ranks)\n"
     ]
    },
    {
     "name": "stdout",
     "output_type": "stream",
     "text": [
      "2022\n",
      "2023\n"
     ]
    }
   ],
   "source": [
    "for year in range(2000, 2024):\n",
    "    print(year)\n",
    "    X, riders = get_all_data_from_riders(year)\n",
    "    np.savez(f'data_{year}.npz', X=X, riders=riders)"
   ]
  },
  {
   "cell_type": "code",
   "execution_count": 627,
   "id": "08f83f88",
   "metadata": {},
   "outputs": [],
   "source": [
    "Xs = []\n",
    "ys = []\n",
    "riderss = []\n",
    "for year in range(2000, 2022):\n",
    "    data = np.load(f'data_{year}.npz')\n",
    "    X = data['X']\n",
    "    riders = data['riders']\n",
    "    X, y = X[:, :3], X[:, 8]\n",
    "    Xs.append(X)\n",
    "    ys.append(y)\n",
    "    riderss.append(riders)\n",
    "\n",
    "    \n",
    "eps = 1e-3\n",
    "X = np.vstack(Xs)\n",
    "y = np.hstack(ys)\n",
    "mask = np.isfinite(y)\n",
    "X = X[mask]\n",
    "y = np.log(y[mask]+eps)\n",
    "riders = np.hstack(riderss)\n",
    "riders = riders[mask]"
   ]
  },
  {
   "cell_type": "code",
   "execution_count": 628,
   "id": "92ca49e5",
   "metadata": {},
   "outputs": [
    {
     "data": {
      "image/png": "[encoded data removed]",
      "text/plain": [
       "<Figure size 432x288 with 1 Axes>"
      ]
     },
     "metadata": {
      "needs_background": "light"
     },
     "output_type": "display_data"
    }
   ],
   "source": [
    "plt.scatter(X[:, 0], y)\n",
    "plt.scatter(X[:, 1], y)\n",
    "plt.scatter(X[:, 2], y)\n",
    "plt.xscale('log')"
   ]
  },
  {
   "cell_type": "code",
   "execution_count": 629,
   "id": "a9cbe340",
   "metadata": {},
   "outputs": [
    {
     "data": {
      "text/plain": [
       "0.23383711161263188"
      ]
     },
     "execution_count": 629,
     "metadata": {},
     "output_type": "execute_result"
    }
   ],
   "source": [
    "from sklearn.impute import SimpleImputer\n",
    "from sklearn.linear_model import LinearRegression\n",
    "from sklearn.preprocessing import PolynomialFeatures\n",
    "from sklearn.svm import SVR\n",
    "from sklearn.preprocessing import StandardScaler\n",
    "from sklearn.preprocessing import FunctionTransformer\n",
    "from sklearn.pipeline import Pipeline\n",
    "\n",
    "def func(x):\n",
    "    return np.log(x+eps)\n",
    "\n",
    "pipe = Pipeline([('imp', SimpleImputer()),\n",
    "                 ('log', FunctionTransformer(func)),\n",
    "#                  ('poly', PolynomialFeatures(3, include_bias=False)),\n",
    "#                  ('reg', LinearRegression())])\n",
    "                 ('reg', SVR(kernel='rbf'))])\n",
    "                 \n",
    "                 \n",
    "        \n",
    "\n",
    "pipe.fit(X, y)\n",
    "pipe.score(X, y)"
   ]
  },
  {
   "cell_type": "code",
   "execution_count": 630,
   "id": "bdfe8697",
   "metadata": {},
   "outputs": [
    {
     "data": {
      "image/png": "[encoded data removed]",
      "text/plain": [
       "<Figure size 432x288 with 1 Axes>"
      ]
     },
     "metadata": {
      "needs_background": "light"
     },
     "output_type": "display_data"
    },
    {
     "data": {
      "image/png": "[encoded data removed]",
      "text/plain": [
       "<Figure size 432x288 with 1 Axes>"
      ]
     },
     "metadata": {
      "needs_background": "light"
     },
     "output_type": "display_data"
    }
   ],
   "source": [
    "y_pred = pipe.predict(X)\n",
    "plt.scatter(y_pred, y)\n",
    "# plt.xlim([0, 100])\n",
    "# plt.ylim([0, 100])\n",
    "plt.plot([0, 5], [0, 5], 'k-')\n",
    "plt.figure()\n",
    "plt.hist(y_pred/y-1, bins=np.linspace(-1, 1));\n"
   ]
  },
  {
   "cell_type": "code",
   "execution_count": 631,
   "id": "cfbe70ef",
   "metadata": {},
   "outputs": [],
   "source": [
    "data_2023 = np.load('data_2023.npz')\n",
    "X_2023 = data_2023['X'][:, :3]\n",
    "riders_2023 = data_2023['riders']\n",
    "pred_2023 = pipe.predict(X_2023)\n",
    "riders_2023, unique_i = np.unique(riders_2023, return_index=True)\n",
    "pred_2023 = np.exp(pred_2023[unique_i])\n",
    "# arg_sort = np.argsort(pred_2023)\n",
    "# pred_2023_sort = pred_2023[arg_sort]\n",
    "# riders_sort = riders_2023[arg_sort]\n",
    "# for r, p in zip(riders_sort[:20], pred_2023_sort[:20]):\n",
    "#     print(r, p)"
   ]
  },
  {
   "cell_type": "code",
   "execution_count": 632,
   "id": "8132e923",
   "metadata": {},
   "outputs": [
    {
     "data": {
      "text/html": [
       "<div>\n",
       "<style scoped>\n",
       "    .dataframe tbody tr th:only-of-type {\n",
       "        vertical-align: middle;\n",
       "    }\n",
       "\n",
       "    .dataframe tbody tr th {\n",
       "        vertical-align: top;\n",
       "    }\n",
       "\n",
       "    .dataframe thead th {\n",
       "        text-align: right;\n",
       "    }\n",
       "</style>\n",
       "<table border=\"1\" class=\"dataframe\">\n",
       "  <thead>\n",
       "    <tr style=\"text-align: right;\">\n",
       "      <th></th>\n",
       "      <th>rider</th>\n",
       "      <th>pred</th>\n",
       "    </tr>\n",
       "  </thead>\n",
       "  <tbody>\n",
       "    <tr>\n",
       "      <th>142</th>\n",
       "      <td>remco-evenepoel</td>\n",
       "      <td>1.568843</td>\n",
       "    </tr>\n",
       "    <tr>\n",
       "      <th>79</th>\n",
       "      <td>jonas-vingegaard-rasmussen</td>\n",
       "      <td>1.573285</td>\n",
       "    </tr>\n",
       "    <tr>\n",
       "      <th>47</th>\n",
       "      <td>elisa-longo-borghini</td>\n",
       "      <td>1.768852</td>\n",
       "    </tr>\n",
       "    <tr>\n",
       "      <th>30</th>\n",
       "      <td>christophe-laporte</td>\n",
       "      <td>1.848164</td>\n",
       "    </tr>\n",
       "    <tr>\n",
       "      <th>0</th>\n",
       "      <td>adam-yates</td>\n",
       "      <td>1.960073</td>\n",
       "    </tr>\n",
       "    <tr>\n",
       "      <th>71</th>\n",
       "      <td>jasper-philipsen</td>\n",
       "      <td>1.968404</td>\n",
       "    </tr>\n",
       "    <tr>\n",
       "      <th>85</th>\n",
       "      <td>katarzyna-niewiadoma</td>\n",
       "      <td>2.000591</td>\n",
       "    </tr>\n",
       "    <tr>\n",
       "      <th>103</th>\n",
       "      <td>matej-mohoric</td>\n",
       "      <td>2.061149</td>\n",
       "    </tr>\n",
       "    <tr>\n",
       "      <th>105</th>\n",
       "      <td>mathieu-van-der-poel</td>\n",
       "      <td>2.073083</td>\n",
       "    </tr>\n",
       "    <tr>\n",
       "      <th>159</th>\n",
       "      <td>stefan-kung</td>\n",
       "      <td>2.087978</td>\n",
       "    </tr>\n",
       "    <tr>\n",
       "      <th>163</th>\n",
       "      <td>thomas-pidcock</td>\n",
       "      <td>2.088098</td>\n",
       "    </tr>\n",
       "    <tr>\n",
       "      <th>110</th>\n",
       "      <td>mattias-skjelmose-jensen</td>\n",
       "      <td>2.101678</td>\n",
       "    </tr>\n",
       "    <tr>\n",
       "      <th>58</th>\n",
       "      <td>giulio-ciccone</td>\n",
       "      <td>2.122224</td>\n",
       "    </tr>\n",
       "    <tr>\n",
       "      <th>132</th>\n",
       "      <td>pello-bilbao</td>\n",
       "      <td>2.128132</td>\n",
       "    </tr>\n",
       "    <tr>\n",
       "      <th>155</th>\n",
       "      <td>simon-yates</td>\n",
       "      <td>2.320999</td>\n",
       "    </tr>\n",
       "    <tr>\n",
       "      <th>26</th>\n",
       "      <td>carlos-rodriguez-cano</td>\n",
       "      <td>2.359847</td>\n",
       "    </tr>\n",
       "    <tr>\n",
       "      <th>121</th>\n",
       "      <td>neilson-powless</td>\n",
       "      <td>2.371607</td>\n",
       "    </tr>\n",
       "    <tr>\n",
       "      <th>161</th>\n",
       "      <td>tadej-pogacar</td>\n",
       "      <td>2.516770</td>\n",
       "    </tr>\n",
       "    <tr>\n",
       "      <th>39</th>\n",
       "      <td>david-gaudu</td>\n",
       "      <td>2.547664</td>\n",
       "    </tr>\n",
       "    <tr>\n",
       "      <th>50</th>\n",
       "      <td>enric-mas</td>\n",
       "      <td>2.588043</td>\n",
       "    </tr>\n",
       "  </tbody>\n",
       "</table>\n",
       "</div>"
      ],
      "text/plain": [
       "                          rider      pred\n",
       "142             remco-evenepoel  1.568843\n",
       "79   jonas-vingegaard-rasmussen  1.573285\n",
       "47         elisa-longo-borghini  1.768852\n",
       "30           christophe-laporte  1.848164\n",
       "0                    adam-yates  1.960073\n",
       "71             jasper-philipsen  1.968404\n",
       "85         katarzyna-niewiadoma  2.000591\n",
       "103               matej-mohoric  2.061149\n",
       "105        mathieu-van-der-poel  2.073083\n",
       "159                 stefan-kung  2.087978\n",
       "163              thomas-pidcock  2.088098\n",
       "110    mattias-skjelmose-jensen  2.101678\n",
       "58               giulio-ciccone  2.122224\n",
       "132                pello-bilbao  2.128132\n",
       "155                 simon-yates  2.320999\n",
       "26        carlos-rodriguez-cano  2.359847\n",
       "121             neilson-powless  2.371607\n",
       "161               tadej-pogacar  2.516770\n",
       "39                  david-gaudu  2.547664\n",
       "50                    enric-mas  2.588043"
      ]
     },
     "execution_count": 632,
     "metadata": {},
     "output_type": "execute_result"
    }
   ],
   "source": [
    "df = pd.DataFrame({'rider': riders_2023, 'pred': pred_2023}).sort_values('pred')\n",
    "df.head(20)"
   ]
  },
  {
   "cell_type": "code",
   "execution_count": 643,
   "id": "4ccd7d68",
   "metadata": {},
   "outputs": [
    {
     "name": "stdout",
     "output_type": "stream",
     "text": [
      "jordi-meeus 7.596977857238578\n",
      "dylan-groenewegen 6.633956017319044\n",
      "biniam-girmay 4.782211675871619\n",
      "bryan-coquard 6.197760831135707\n",
      "mark-cavendish 7.03428372906208\n",
      "jasper-philipsen 1.968403849225289\n",
      "phil-bauhaus 8.081171639094123\n",
      "peter-sagan 7.000493580292714\n",
      "luca-mozzato 6.775199320331096\n",
      "danny-van-poppel 6.6550387908550075\n",
      "alex-aranburu 4.775035929489881\n"
     ]
    }
   ],
   "source": [
    "def get_rider_pred(substr):\n",
    "    df_ = df[df['rider'].str.contains(substr)]\n",
    "    print(df_['rider'].iloc[0], df_['pred'].iloc[0])\n",
    "\n",
    "get_rider_pred('meeus')\n",
    "get_rider_pred('groenewegen')\n",
    "get_rider_pred('girmay')\n",
    "get_rider_pred('coquard')\n",
    "get_rider_pred('cavendish')\n",
    "get_rider_pred('philipsen')\n",
    "get_rider_pred('bauhaus')\n",
    "get_rider_pred('sagan')\n",
    "get_rider_pred('mozz')\n",
    "get_rider_pred('poppel')\n",
    "get_rider_pred('aranburu')"
   ]
  },
  {
   "cell_type": "code",
   "execution_count": 639,
   "id": "c9049c68",
   "metadata": {},
   "outputs": [
    {
     "name": "stdout",
     "output_type": "stream",
     "text": [
      "ben-o-connor 3.516959352246041\n",
      "romain-bardet 2.7386747223610324\n",
      "david-gaudu 2.54766382317265\n",
      "louis-meintjes 7.352675732118217\n",
      "guillaume-martin 3.4540433332549183\n",
      "mikel-landa 2.616078576234091\n",
      "carlos-rodriguez-cano 2.3598469294549704\n",
      "enric-mas 2.5880428384744936\n",
      "pello-bilbao 2.128131615482733\n"
     ]
    }
   ],
   "source": [
    "get_rider_pred('connor')\n",
    "get_rider_pred('bardet')\n",
    "get_rider_pred('gaudu')\n",
    "get_rider_pred('meintjes')\n",
    "get_rider_pred('guillaume-martin')\n",
    "get_rider_pred('landa')\n",
    "get_rider_pred('rodriguez')\n",
    "get_rider_pred('enric-mas')\n",
    "get_rider_pred('bilbao')"
   ]
  },
  {
   "cell_type": "code",
   "execution_count": 638,
   "id": "75b14b60",
   "metadata": {},
   "outputs": [
    {
     "name": "stdout",
     "output_type": "stream",
     "text": [
      "mathieu-van-der-poel 2.073082823269829\n",
      "neilson-powless 2.3716065345836217\n",
      "thomas-pidcock 2.0880984344744298\n",
      "julian-alaphilippe 4.2443937580948825\n",
      "giulio-ciccone 2.1222239598953165\n"
     ]
    }
   ],
   "source": [
    "get_rider_pred('van-der-poel')\n",
    "get_rider_pred('powless')\n",
    "get_rider_pred('pidcock')\n",
    "get_rider_pred('alaphi')\n",
    "get_rider_pred('cicco')"
   ]
  },
  {
   "cell_type": "code",
   "execution_count": null,
   "id": "fd34c52b",
   "metadata": {},
   "outputs": [],
   "source": [
    "a yates, mohoric, kung, bilbao, s yates, rodriguez, laporte, mvdwp, wva, pidcock"
   ]
  },
  {
   "cell_type": "code",
   "execution_count": null,
   "id": "749dba41",
   "metadata": {},
   "outputs": [],
   "source": []
  },
  {
   "cell_type": "code",
   "execution_count": null,
   "id": "e8ada6c1",
   "metadata": {},
   "outputs": [],
   "source": []
  }
 ],
 "metadata": {
  "kernelspec": {
   "display_name": "Python 3 (ipykernel)",
   "language": "python",
   "name": "python3"
  },
  "language_info": {
   "codemirror_mode": {
    "name": "ipython",
    "version": 3
   },
   "file_extension": ".py",
   "mimetype": "text/x-python",
   "name": "python",
   "nbconvert_exporter": "python",
   "pygments_lexer": "ipython3",
   "version": "3.10.4"
  }
 },
 "nbformat": 4,
 "nbformat_minor": 5
}
