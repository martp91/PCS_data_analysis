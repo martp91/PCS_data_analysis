{
 "cells": [
  {
   "cell_type": "code",
   "execution_count": 254,
   "id": "ca028292",
   "metadata": {},
   "outputs": [],
   "source": [
    "import requests\n",
    "from bs4 import BeautifulSoup\n",
    "import numpy as np\n",
    "import pandas as pd\n",
    "import matplotlib.pyplot as plt\n",
    "import procyclingstats as pcs\n",
    "import os"
   ]
  },
  {
   "cell_type": "markdown",
   "id": "7b6a2a18",
   "metadata": {},
   "source": [
    "# Individual riders results\n",
    "Get all results of a rider from a season. Use the procyclingstats library"
   ]
  },
  {
   "cell_type": "code",
   "execution_count": 303,
   "id": "fb02885b",
   "metadata": {},
   "outputs": [
    {
     "data": {
      "text/plain": [
       "['anthony-turgis',\n",
       " 'soren-kragh-andersen',\n",
       " 'andreas-kron',\n",
       " 'davide-ballerini',\n",
       " 'ruben-fernandez']"
      ]
     },
     "execution_count": 303,
     "metadata": {},
     "output_type": "execute_result"
    }
   ],
   "source": [
    "def remove_(riders):\n",
    "    \"\"\"Some female names are also scraped, probably more, also remove duplicates\"\"\"\n",
    "    to_remove = ['annemiek-van-vleuten', 'elisa-longo-borghini', 'katarzyna-niewiadoma', 'remco-evenepoel']\n",
    "    new_riders = []\n",
    "    indices = []\n",
    "    for i, rider in enumerate(riders):\n",
    "        if rider not in to_remove and rider not in new_riders:\n",
    "            new_riders.append(rider)\n",
    "            indices.append(i)\n",
    "            \n",
    "    return new_riders, indices\n",
    "\n",
    "def get_riders_tdf(season):\n",
    "    riders = []\n",
    "    try:\n",
    "        url_startlist = f\"https://www.procyclingstats.com/race/tour-de-france/{season}/startlist\"\n",
    "        page = requests.get(url_startlist)\n",
    "        soup = BeautifulSoup(page.content, \"html.parser\")\n",
    "        #FIXME There is a bug here, more stuff is being taken\n",
    "        for a in soup.find_all(\"a\", href=True):\n",
    "            href = a['href']\n",
    "            if href.startswith('rider/'):\n",
    "                rider = href[6:]\n",
    "                riders.append(rider)\n",
    "    except:\n",
    "        files = os.listdir('rider_data')\n",
    "        for file in files:\n",
    "            if str(season) in file:\n",
    "                riders.append(file.split('_')[0])\n",
    "                \n",
    "    riders, _ = remove_(riders)\n",
    "    return riders\n",
    "\n",
    "get_riders_tdf(2021)[:5]"
   ]
  },
  {
   "cell_type": "code",
   "execution_count": 256,
   "id": "c23f0cb3",
   "metadata": {},
   "outputs": [],
   "source": [
    "def get_rider_results(rider, season):\n",
    "    url = f\"rider.php?xseason={season}&zxseason=&pxseason=equal&sort=date&race=&km1=&zkm1=&pkm1=equal&limit=200&topx=&ztopx=&ptopx=smallerorequal&type=&znation=&continent=&pnts=&zpnts=&ppnts=equal&level=&rnk=&zrnk=&prnk=equal&exclude_tt=0&racedate=&zracedate=&pracedate=equal&name=&pname=contains&category=&profile_score=&zprofile_score=&pprofile_score=largerorequal&filter=Filter&id={rider}&p=results&s=all\"\n",
    "#     return pcs.RiderResults(url).results('rank', 'stage_name', 'pcs_points')\n",
    "    filename = f'rider_data/{rider}_{season}.csv.gz'\n",
    "    if os.path.exists(filename):\n",
    "        df = pd.read_csv(filename, index_col=0)\n",
    "    else:\n",
    "        df = pd.DataFrame(pcs.RiderResults(url).results())#'rank', 'stage_name', 'distance'))\n",
    "        df['stage_name'] = f\"{season} \" + df['stage_name']\n",
    "        df.to_csv(filename)\n",
    "    return df"
   ]
  },
  {
   "cell_type": "code",
   "execution_count": 258,
   "id": "b3a0b89e",
   "metadata": {},
   "outputs": [
    {
     "data": {
      "text/html": [
       "<div>\n",
       "<style scoped>\n",
       "    .dataframe tbody tr th:only-of-type {\n",
       "        vertical-align: middle;\n",
       "    }\n",
       "\n",
       "    .dataframe tbody tr th {\n",
       "        vertical-align: top;\n",
       "    }\n",
       "\n",
       "    .dataframe thead th {\n",
       "        text-align: right;\n",
       "    }\n",
       "</style>\n",
       "<table border=\"1\" class=\"dataframe\">\n",
       "  <thead>\n",
       "    <tr style=\"text-align: right;\">\n",
       "      <th></th>\n",
       "      <th>date</th>\n",
       "      <th>rank</th>\n",
       "      <th>stage_url</th>\n",
       "      <th>stage_name</th>\n",
       "      <th>nationality</th>\n",
       "      <th>class</th>\n",
       "      <th>distance</th>\n",
       "      <th>pcs_points</th>\n",
       "      <th>uci_points</th>\n",
       "    </tr>\n",
       "  </thead>\n",
       "  <tbody>\n",
       "    <tr>\n",
       "      <th>8</th>\n",
       "      <td>2021-07-18</td>\n",
       "      <td>5.0</td>\n",
       "      <td>race/tour-de-france/2021/gc</td>\n",
       "      <td>2021 Tour de France</td>\n",
       "      <td>FR</td>\n",
       "      <td>2.UWT</td>\n",
       "      <td>NaN</td>\n",
       "      <td>280</td>\n",
       "      <td>475.0</td>\n",
       "    </tr>\n",
       "    <tr>\n",
       "      <th>31</th>\n",
       "      <td>2021-06-06</td>\n",
       "      <td>4.0</td>\n",
       "      <td>race/dauphine/2021/gc</td>\n",
       "      <td>2021 Critérium du Dauphiné</td>\n",
       "      <td>FR</td>\n",
       "      <td>2.UWT</td>\n",
       "      <td>NaN</td>\n",
       "      <td>140</td>\n",
       "      <td>275.0</td>\n",
       "    </tr>\n",
       "    <tr>\n",
       "      <th>54</th>\n",
       "      <td>2021-03-28</td>\n",
       "      <td>5.0</td>\n",
       "      <td>race/volta-a-catalunya/2021/gc</td>\n",
       "      <td>2021 Volta Ciclista a Catalunya</td>\n",
       "      <td>ES</td>\n",
       "      <td>2.UWT</td>\n",
       "      <td>NaN</td>\n",
       "      <td>120</td>\n",
       "      <td>180.0</td>\n",
       "    </tr>\n",
       "    <tr>\n",
       "      <th>41</th>\n",
       "      <td>2021-05-02</td>\n",
       "      <td>10.0</td>\n",
       "      <td>race/tour-de-romandie/2021/gc</td>\n",
       "      <td>2021 Tour de Romandie</td>\n",
       "      <td>CH</td>\n",
       "      <td>2.UWT</td>\n",
       "      <td>NaN</td>\n",
       "      <td>70</td>\n",
       "      <td>85.0</td>\n",
       "    </tr>\n",
       "    <tr>\n",
       "      <th>28</th>\n",
       "      <td>2021-06-27</td>\n",
       "      <td>4.0</td>\n",
       "      <td>race/tour-de-france/2021/stage-2</td>\n",
       "      <td>2021 Tour de France | Stage 2</td>\n",
       "      <td>FR</td>\n",
       "      <td>2.UWT</td>\n",
       "      <td>183.5</td>\n",
       "      <td>40</td>\n",
       "      <td>15.0</td>\n",
       "    </tr>\n",
       "  </tbody>\n",
       "</table>\n",
       "</div>"
      ],
      "text/plain": [
       "          date  rank                         stage_url  \\\n",
       "8   2021-07-18   5.0       race/tour-de-france/2021/gc   \n",
       "31  2021-06-06   4.0             race/dauphine/2021/gc   \n",
       "54  2021-03-28   5.0    race/volta-a-catalunya/2021/gc   \n",
       "41  2021-05-02  10.0     race/tour-de-romandie/2021/gc   \n",
       "28  2021-06-27   4.0  race/tour-de-france/2021/stage-2   \n",
       "\n",
       "                         stage_name nationality  class  distance  pcs_points  \\\n",
       "8               2021 Tour de France          FR  2.UWT       NaN         280   \n",
       "31       2021 Critérium du Dauphiné          FR  2.UWT       NaN         140   \n",
       "54  2021 Volta Ciclista a Catalunya          ES  2.UWT       NaN         120   \n",
       "41            2021 Tour de Romandie          CH  2.UWT       NaN          70   \n",
       "28    2021 Tour de France | Stage 2          FR  2.UWT     183.5          40   \n",
       "\n",
       "    uci_points  \n",
       "8        475.0  \n",
       "31       275.0  \n",
       "54       180.0  \n",
       "41        85.0  \n",
       "28        15.0  "
      ]
     },
     "execution_count": 258,
     "metadata": {},
     "output_type": "execute_result"
    }
   ],
   "source": [
    "wilco = get_rider_results('wilco-kelderman', 2021)\n",
    "wilco.sort_values('pcs_points', ascending=False).head(5)"
   ]
  },
  {
   "cell_type": "code",
   "execution_count": 390,
   "id": "7ee55007",
   "metadata": {},
   "outputs": [],
   "source": [
    "#Can also get all info in a column, but that is a lot of info\n",
    "def get_rider_all_results(rider, season):\n",
    "    res_0 = get_rider_results(rider, season)\n",
    "    res_1 = get_rider_results(rider, season-1)\n",
    "    res_2 = get_rider_results(rider, season-2)\n",
    "    res = pd.concat([res_0, res_1, res_2])[['stage_url', 'rank']]\n",
    "    res.drop_duplicates(inplace=True)\n",
    "    res = res.transpose()\n",
    "    res.columns = res.iloc[0]\n",
    "    res['name'] = rider\n",
    "    res['season'] = season\n",
    "    return res.drop(labels='stage_url')"
   ]
  },
  {
   "cell_type": "code",
   "execution_count": 391,
   "id": "d097b4c1",
   "metadata": {},
   "outputs": [],
   "source": [
    "season = 2023\n",
    "riders = get_riders_tdf(season)\n",
    "results = []\n",
    "for rider in riders:\n",
    "    results.append(get_rider_all_results(rider, season))\n",
    "df = pd.concat(results)"
   ]
  },
  {
   "cell_type": "code",
   "execution_count": 187,
   "id": "205262b5",
   "metadata": {},
   "outputs": [],
   "source": [
    "def get_mean_pcs_points_rank(df):\n",
    "    #do not use TDF results\n",
    "#     df_ = df[~df['stage_name'].str.contains('Tour de France')]\n",
    "    return np.mean(df['pcs_points'])/np.mean(df['rank'])\n",
    "\n",
    "def get_rider_stats(rider, season):\n",
    "    \"\"\"\n",
    "    Get the average pcs score of the last 3 years and return the tdf result of this year\n",
    "    Is there a correlation between those?\n",
    "    \"\"\"\n",
    "    #Get results of last 3 seasons\n",
    "    results_0 = get_rider_results(rider, season)\n",
    "    results_1 = get_rider_results(rider, season-1)\n",
    "    results_2 = get_rider_results(rider, season-2)\n",
    "\n",
    "    #Score of this year, but without the TDF, this is what I want to predict\n",
    "    score_0 = get_mean_pcs_points_rank(results_0[~results_0['stage_name'].str.contains('Tour de France')])\n",
    "    score_1 = get_mean_pcs_points_rank(results_1)\n",
    "    score_2 = get_mean_pcs_points_rank(results_2)\n",
    "    \n",
    "    # get TDF results, this is what needs to be predicted\n",
    "    tdf_0 = results_0[results_0['stage_name'].str.contains('Tour de France')]\n",
    "    if not tdf_0.empty:\n",
    "        try:\n",
    "            rank_gc = tdf_0[tdf_0['stage_name'] == f'{season} Tour de France']['rank'].iloc[0]\n",
    "        except (KeyError, IndexError):\n",
    "            rank_gc = np.nan\n",
    "        try:\n",
    "            rank_points = tdf_0[tdf_0['stage_name'] == f'{season} Tour de France | Points classification']['rank'].iloc[0]\n",
    "        except (KeyError, IndexError):\n",
    "            rank_points = np.nan\n",
    "        try:\n",
    "            rank_mount = tdf_0[tdf_0['stage_name'] == f'{season} Tour de France | Mountains classification']['rank'].iloc[0]\n",
    "        except (KeyError, IndexError):\n",
    "            rank_mount = np.nan\n",
    "        try:\n",
    "            rank_youth = tdf_0[tdf_0['stage_name'] == f'{season} Tour de France | Youth classification']['rank'].iloc[0]\n",
    "        except (KeyError, IndexError):\n",
    "            rank_youth = np.nan\n",
    "\n",
    "        stages = tdf_0[tdf_0['stage_name'].str.contains('Stage')]\n",
    "        ranks = stages['rank']\n",
    "        stages_mean = np.nanmean(ranks)\n",
    "        stages_min = np.nanmin(ranks)\n",
    "        stages_med = np.nanmedian(ranks)\n",
    "    else:\n",
    "        rank_gc, rank_mount, rank_youth, rank_points, stages_mean, stages_med, stages_min = 7 * (np.nan, )\n",
    "        \n",
    "    #TODO should save col names somewhere\n",
    "    return score_0, score_1, score_2, rank_gc, rank_points, rank_mount, rank_youth, stages_mean, stages_min, stages_med\n",
    "        \n",
    "def get_all_data_from_riders(season, nX=3, ny=7):\n",
    "    \"Put data in an array\"\n",
    "    riders = get_riders_tdf(season)\n",
    "    nriders = len(riders)\n",
    "    X = np.zeros((nriders, nX+ny))\n",
    "\n",
    "    for i, rider in enumerate(riders):\n",
    "        try:\n",
    "            X[i] = get_rider_stats(rider, season)\n",
    "        except:\n",
    "            X[i] = (nX+ny) * [np.nan]\n",
    "    return X, riders"
   ]
  },
  {
   "cell_type": "code",
   "execution_count": 188,
   "id": "f7980224",
   "metadata": {},
   "outputs": [
    {
     "data": {
      "text/plain": [
       "(0.545957284515637,\n",
       " 0.8730305838739575,\n",
       " 0.17609968267863005,\n",
       " 5.0,\n",
       " 23.0,\n",
       " 24.0,\n",
       " nan,\n",
       " 25.285714285714285,\n",
       " 4.0,\n",
       " 25.0)"
      ]
     },
     "execution_count": 188,
     "metadata": {},
     "output_type": "execute_result"
    }
   ],
   "source": [
    "get_rider_stats('wilco-kelderman', 2021)"
   ]
  },
  {
   "cell_type": "code",
   "execution_count": 189,
   "id": "85a08b4c",
   "metadata": {},
   "outputs": [
    {
     "name": "stdout",
     "output_type": "stream",
     "text": [
      "2000\n"
     ]
    },
    {
     "name": "stderr",
     "output_type": "stream",
     "text": [
      "/tmp/ipykernel_8551/495877402.py:39: RuntimeWarning: Mean of empty slice\n",
      "  stages_mean = np.nanmean(ranks)\n",
      "/tmp/ipykernel_8551/495877402.py:40: RuntimeWarning: All-NaN axis encountered\n",
      "  stages_min = np.nanmin(ranks)\n",
      "/home/mart/anaconda3/envs/pcs/lib/python3.10/site-packages/numpy/lib/nanfunctions.py:1218: RuntimeWarning: All-NaN slice encountered\n",
      "  r, k = function_base._ureduce(a, func=_nanmedian, axis=axis, out=out,\n",
      "/tmp/ipykernel_8551/495877402.py:39: RuntimeWarning: Mean of empty slice\n",
      "  stages_mean = np.nanmean(ranks)\n",
      "/tmp/ipykernel_8551/495877402.py:40: RuntimeWarning: All-NaN axis encountered\n",
      "  stages_min = np.nanmin(ranks)\n",
      "/home/mart/anaconda3/envs/pcs/lib/python3.10/site-packages/numpy/lib/nanfunctions.py:1218: RuntimeWarning: All-NaN slice encountered\n",
      "  r, k = function_base._ureduce(a, func=_nanmedian, axis=axis, out=out,\n",
      "/tmp/ipykernel_8551/495877402.py:39: RuntimeWarning: Mean of empty slice\n",
      "  stages_mean = np.nanmean(ranks)\n",
      "/tmp/ipykernel_8551/495877402.py:40: RuntimeWarning: All-NaN axis encountered\n",
      "  stages_min = np.nanmin(ranks)\n",
      "/home/mart/anaconda3/envs/pcs/lib/python3.10/site-packages/numpy/lib/nanfunctions.py:1218: RuntimeWarning: All-NaN slice encountered\n",
      "  r, k = function_base._ureduce(a, func=_nanmedian, axis=axis, out=out,\n"
     ]
    },
    {
     "name": "stdout",
     "output_type": "stream",
     "text": [
      "2001\n"
     ]
    },
    {
     "name": "stderr",
     "output_type": "stream",
     "text": [
      "/tmp/ipykernel_8551/495877402.py:39: RuntimeWarning: Mean of empty slice\n",
      "  stages_mean = np.nanmean(ranks)\n",
      "/tmp/ipykernel_8551/495877402.py:40: RuntimeWarning: All-NaN axis encountered\n",
      "  stages_min = np.nanmin(ranks)\n",
      "/home/mart/anaconda3/envs/pcs/lib/python3.10/site-packages/numpy/lib/nanfunctions.py:1218: RuntimeWarning: All-NaN slice encountered\n",
      "  r, k = function_base._ureduce(a, func=_nanmedian, axis=axis, out=out,\n"
     ]
    },
    {
     "name": "stdout",
     "output_type": "stream",
     "text": [
      "2002\n",
      "2003\n",
      "2004\n"
     ]
    },
    {
     "name": "stderr",
     "output_type": "stream",
     "text": [
      "/tmp/ipykernel_8551/495877402.py:39: RuntimeWarning: Mean of empty slice\n",
      "  stages_mean = np.nanmean(ranks)\n",
      "/tmp/ipykernel_8551/495877402.py:40: RuntimeWarning: All-NaN axis encountered\n",
      "  stages_min = np.nanmin(ranks)\n",
      "/home/mart/anaconda3/envs/pcs/lib/python3.10/site-packages/numpy/lib/nanfunctions.py:1218: RuntimeWarning: All-NaN slice encountered\n",
      "  r, k = function_base._ureduce(a, func=_nanmedian, axis=axis, out=out,\n"
     ]
    },
    {
     "name": "stdout",
     "output_type": "stream",
     "text": [
      "2005\n",
      "2006\n",
      "2007\n"
     ]
    },
    {
     "name": "stderr",
     "output_type": "stream",
     "text": [
      "/tmp/ipykernel_8551/495877402.py:39: RuntimeWarning: Mean of empty slice\n",
      "  stages_mean = np.nanmean(ranks)\n",
      "/tmp/ipykernel_8551/495877402.py:40: RuntimeWarning: All-NaN axis encountered\n",
      "  stages_min = np.nanmin(ranks)\n",
      "/home/mart/anaconda3/envs/pcs/lib/python3.10/site-packages/numpy/lib/nanfunctions.py:1218: RuntimeWarning: All-NaN slice encountered\n",
      "  r, k = function_base._ureduce(a, func=_nanmedian, axis=axis, out=out,\n"
     ]
    },
    {
     "name": "stdout",
     "output_type": "stream",
     "text": [
      "2008\n"
     ]
    },
    {
     "name": "stderr",
     "output_type": "stream",
     "text": [
      "/tmp/ipykernel_8551/495877402.py:39: RuntimeWarning: Mean of empty slice\n",
      "  stages_mean = np.nanmean(ranks)\n",
      "/tmp/ipykernel_8551/495877402.py:40: RuntimeWarning: All-NaN axis encountered\n",
      "  stages_min = np.nanmin(ranks)\n",
      "/home/mart/anaconda3/envs/pcs/lib/python3.10/site-packages/numpy/lib/nanfunctions.py:1218: RuntimeWarning: All-NaN slice encountered\n",
      "  r, k = function_base._ureduce(a, func=_nanmedian, axis=axis, out=out,\n"
     ]
    },
    {
     "name": "stdout",
     "output_type": "stream",
     "text": [
      "2009\n",
      "2010\n"
     ]
    },
    {
     "name": "stderr",
     "output_type": "stream",
     "text": [
      "/tmp/ipykernel_8551/495877402.py:39: RuntimeWarning: Mean of empty slice\n",
      "  stages_mean = np.nanmean(ranks)\n",
      "/tmp/ipykernel_8551/495877402.py:40: RuntimeWarning: All-NaN axis encountered\n",
      "  stages_min = np.nanmin(ranks)\n",
      "/home/mart/anaconda3/envs/pcs/lib/python3.10/site-packages/numpy/lib/nanfunctions.py:1218: RuntimeWarning: All-NaN slice encountered\n",
      "  r, k = function_base._ureduce(a, func=_nanmedian, axis=axis, out=out,\n",
      "/tmp/ipykernel_8551/495877402.py:39: RuntimeWarning: Mean of empty slice\n",
      "  stages_mean = np.nanmean(ranks)\n",
      "/tmp/ipykernel_8551/495877402.py:40: RuntimeWarning: All-NaN axis encountered\n",
      "  stages_min = np.nanmin(ranks)\n",
      "/home/mart/anaconda3/envs/pcs/lib/python3.10/site-packages/numpy/lib/nanfunctions.py:1218: RuntimeWarning: All-NaN slice encountered\n",
      "  r, k = function_base._ureduce(a, func=_nanmedian, axis=axis, out=out,\n"
     ]
    },
    {
     "name": "stdout",
     "output_type": "stream",
     "text": [
      "2011\n",
      "2012\n",
      "2013\n",
      "2014\n",
      "2015\n",
      "2016\n",
      "2017\n"
     ]
    },
    {
     "name": "stderr",
     "output_type": "stream",
     "text": [
      "/tmp/ipykernel_8551/495877402.py:39: RuntimeWarning: Mean of empty slice\n",
      "  stages_mean = np.nanmean(ranks)\n",
      "/tmp/ipykernel_8551/495877402.py:40: RuntimeWarning: All-NaN axis encountered\n",
      "  stages_min = np.nanmin(ranks)\n",
      "/home/mart/anaconda3/envs/pcs/lib/python3.10/site-packages/numpy/lib/nanfunctions.py:1218: RuntimeWarning: All-NaN slice encountered\n",
      "  r, k = function_base._ureduce(a, func=_nanmedian, axis=axis, out=out,\n",
      "/tmp/ipykernel_8551/495877402.py:39: RuntimeWarning: Mean of empty slice\n",
      "  stages_mean = np.nanmean(ranks)\n",
      "/tmp/ipykernel_8551/495877402.py:40: RuntimeWarning: All-NaN axis encountered\n",
      "  stages_min = np.nanmin(ranks)\n",
      "/home/mart/anaconda3/envs/pcs/lib/python3.10/site-packages/numpy/lib/nanfunctions.py:1218: RuntimeWarning: All-NaN slice encountered\n",
      "  r, k = function_base._ureduce(a, func=_nanmedian, axis=axis, out=out,\n"
     ]
    },
    {
     "name": "stdout",
     "output_type": "stream",
     "text": [
      "2018\n",
      "2019\n",
      "2020\n"
     ]
    },
    {
     "name": "stderr",
     "output_type": "stream",
     "text": [
      "/tmp/ipykernel_8551/495877402.py:39: RuntimeWarning: Mean of empty slice\n",
      "  stages_mean = np.nanmean(ranks)\n",
      "/tmp/ipykernel_8551/495877402.py:40: RuntimeWarning: All-NaN axis encountered\n",
      "  stages_min = np.nanmin(ranks)\n",
      "/home/mart/anaconda3/envs/pcs/lib/python3.10/site-packages/numpy/lib/nanfunctions.py:1218: RuntimeWarning: All-NaN slice encountered\n",
      "  r, k = function_base._ureduce(a, func=_nanmedian, axis=axis, out=out,\n"
     ]
    },
    {
     "name": "stdout",
     "output_type": "stream",
     "text": [
      "2021\n"
     ]
    },
    {
     "name": "stderr",
     "output_type": "stream",
     "text": [
      "/tmp/ipykernel_8551/495877402.py:39: RuntimeWarning: Mean of empty slice\n",
      "  stages_mean = np.nanmean(ranks)\n",
      "/tmp/ipykernel_8551/495877402.py:40: RuntimeWarning: All-NaN axis encountered\n",
      "  stages_min = np.nanmin(ranks)\n",
      "/home/mart/anaconda3/envs/pcs/lib/python3.10/site-packages/numpy/lib/nanfunctions.py:1218: RuntimeWarning: All-NaN slice encountered\n",
      "  r, k = function_base._ureduce(a, func=_nanmedian, axis=axis, out=out,\n",
      "/tmp/ipykernel_8551/495877402.py:39: RuntimeWarning: Mean of empty slice\n",
      "  stages_mean = np.nanmean(ranks)\n",
      "/tmp/ipykernel_8551/495877402.py:40: RuntimeWarning: All-NaN axis encountered\n",
      "  stages_min = np.nanmin(ranks)\n",
      "/home/mart/anaconda3/envs/pcs/lib/python3.10/site-packages/numpy/lib/nanfunctions.py:1218: RuntimeWarning: All-NaN slice encountered\n",
      "  r, k = function_base._ureduce(a, func=_nanmedian, axis=axis, out=out,\n",
      "/tmp/ipykernel_8551/495877402.py:39: RuntimeWarning: Mean of empty slice\n",
      "  stages_mean = np.nanmean(ranks)\n",
      "/tmp/ipykernel_8551/495877402.py:40: RuntimeWarning: All-NaN axis encountered\n",
      "  stages_min = np.nanmin(ranks)\n",
      "/home/mart/anaconda3/envs/pcs/lib/python3.10/site-packages/numpy/lib/nanfunctions.py:1218: RuntimeWarning: All-NaN slice encountered\n",
      "  r, k = function_base._ureduce(a, func=_nanmedian, axis=axis, out=out,\n"
     ]
    },
    {
     "name": "stdout",
     "output_type": "stream",
     "text": [
      "2022\n",
      "2023\n"
     ]
    }
   ],
   "source": [
    "#Get all data from last ~20 years\n",
    "for year in range(2000, 2024):\n",
    "    print(year)\n",
    "    X, riders = get_all_data_from_riders(year)\n",
    "    np.savez(f'data_{year}.npz', X=X, riders=riders)"
   ]
  },
  {
   "cell_type": "code",
   "execution_count": 227,
   "id": "08f83f88",
   "metadata": {},
   "outputs": [],
   "source": [
    "#predict the min stage results (so the best!), from the average pcs score\n",
    "\n",
    "Xs = []\n",
    "ys = []\n",
    "riderss = []\n",
    "for year in range(2000, 2022):\n",
    "    data = np.load(f'data_{year}.npz')\n",
    "    X = data['X']\n",
    "    riders = data['riders']\n",
    "    #Let's get the median of the stage results. min might be better but is harder to predict\n",
    "    X, y = X[:, :3], X[:, 9]\n",
    "    Xs.append(X)\n",
    "    ys.append(y)\n",
    "    riderss.append(riders)\n",
    "\n",
    "eps = 1e-3\n",
    "X = np.vstack(Xs)\n",
    "y = np.hstack(ys)\n",
    "masky = np.isfinite(y)\n",
    "maskX = np.array([np.all(np.isfinite(x)) for x in X])\n",
    "mask = maskX&masky\n",
    "X = X[mask]\n",
    "y = y[mask]\n",
    "# #There is clearly a log log relation\n",
    "y = np.log(y+eps)\n",
    "riders = np.hstack(riderss)\n",
    "riders = riders[mask]"
   ]
  },
  {
   "cell_type": "code",
   "execution_count": 229,
   "id": "ae075a2d",
   "metadata": {},
   "outputs": [
    {
     "data": {
      "text/plain": [
       "(-0.4432396533702935, -0.4628261270589931, -0.2446251758921958)"
      ]
     },
     "execution_count": 229,
     "metadata": {},
     "output_type": "execute_result"
    }
   ],
   "source": [
    "#higher pcs score is lower y\n",
    "np.corrcoef(X[:, 0], y)[0, 1], np.corrcoef(X[:, 1], y)[0, 1], np.corrcoef(X[:, 2], y)[0, 1]"
   ]
  },
  {
   "cell_type": "code",
   "execution_count": 230,
   "id": "92ca49e5",
   "metadata": {},
   "outputs": [
    {
     "data": {
      "image/png": "[encoded data removed]",
      "text/plain": [
       "<Figure size 432x288 with 1 Axes>"
      ]
     },
     "metadata": {
      "needs_background": "light"
     },
     "output_type": "display_data"
    }
   ],
   "source": [
    "plt.scatter(X[:, 0], y)\n",
    "plt.scatter(X[:, 1], y)\n",
    "plt.scatter(X[:, 2], y)\n",
    "plt.xscale('log')"
   ]
  },
  {
   "cell_type": "code",
   "execution_count": 231,
   "id": "a9cbe340",
   "metadata": {},
   "outputs": [
    {
     "data": {
      "text/plain": [
       "0.3486227858644553"
      ]
     },
     "execution_count": 231,
     "metadata": {},
     "output_type": "execute_result"
    }
   ],
   "source": [
    "from sklearn.impute import SimpleImputer\n",
    "from sklearn.linear_model import LinearRegression\n",
    "from sklearn.preprocessing import PolynomialFeatures\n",
    "from sklearn.svm import SVR\n",
    "from sklearn.preprocessing import StandardScaler\n",
    "from sklearn.preprocessing import FunctionTransformer\n",
    "from sklearn.pipeline import Pipeline\n",
    "\n",
    "def func(x):\n",
    "    return np.log(x+eps)\n",
    "\n",
    "pipe = Pipeline([('imp', SimpleImputer()),\n",
    "                 ('log', FunctionTransformer(func)),\n",
    "#                  ('poly', PolynomialFeatures(3, include_bias=False)),\n",
    "#                  ('reg', LinearRegression())])\n",
    "                 ('reg', SVR(kernel='rbf'))])\n",
    "                 \n",
    "                 \n",
    "pipe.fit(X, y)\n",
    "pipe.score(X, y)"
   ]
  },
  {
   "cell_type": "code",
   "execution_count": 253,
   "id": "bdfe8697",
   "metadata": {},
   "outputs": [
    {
     "name": "stdout",
     "output_type": "stream",
     "text": [
      "1.0066110884671906 0.11737611826966803\n"
     ]
    },
    {
     "data": {
      "image/png": "[encoded data removed]",
      "text/plain": [
       "<Figure size 432x288 with 1 Axes>"
      ]
     },
     "metadata": {
      "needs_background": "light"
     },
     "output_type": "display_data"
    },
    {
     "data": {
      "image/png": "[encoded data removed]",
      "text/plain": [
       "<Figure size 432x288 with 1 Axes>"
      ]
     },
     "metadata": {
      "needs_background": "light"
     },
     "output_type": "display_data"
    }
   ],
   "source": [
    "y_pred = pipe.predict(X)\n",
    "plt.scatter(y_pred, y)\n",
    "# plt.xlim([0, 100])\n",
    "# plt.ylim([0, 100])\n",
    "plt.plot([2, 6], [2, 6], 'k--')\n",
    "plt.figure()\n",
    "plt.hist(y_pred/y-1, bins=np.linspace(-1, 1), density=True);\n",
    "plt.xlim([-0.5, 0.5])\n",
    "from scipy.stats import norm\n",
    "x = np.linspace(-0.5, 0.5, 100)\n",
    "plt.plot(x, norm.pdf(x, 0, np.percentile(y_pred/y-1, 84)), 'r--')\n",
    "print(np.mean(y_pred/y-1), np.percentile(y_pred/y-1, 84))"
   ]
  },
  {
   "cell_type": "code",
   "execution_count": 237,
   "id": "cfbe70ef",
   "metadata": {},
   "outputs": [],
   "source": [
    "data_2023 = np.load('data_2023.npz')\n",
    "X_2023 = data_2023['X'][:, :3]\n",
    "riders_2023, indices = remove_(data_2023['riders'])\n",
    "# riders_2023 = data_2023['riders']\n",
    "X_2023 = X_2023[indices]\n",
    "pred_2023 = pipe.predict(X_2023)"
   ]
  },
  {
   "cell_type": "code",
   "execution_count": 242,
   "id": "8132e923",
   "metadata": {},
   "outputs": [
    {
     "data": {
      "text/html": [
       "<div>\n",
       "<style scoped>\n",
       "    .dataframe tbody tr th:only-of-type {\n",
       "        vertical-align: middle;\n",
       "    }\n",
       "\n",
       "    .dataframe tbody tr th {\n",
       "        vertical-align: top;\n",
       "    }\n",
       "\n",
       "    .dataframe thead th {\n",
       "        text-align: right;\n",
       "    }\n",
       "</style>\n",
       "<table border=\"1\" class=\"dataframe\">\n",
       "  <thead>\n",
       "    <tr style=\"text-align: right;\">\n",
       "      <th></th>\n",
       "      <th>rider</th>\n",
       "      <th>pred</th>\n",
       "    </tr>\n",
       "  </thead>\n",
       "  <tbody>\n",
       "    <tr>\n",
       "      <th>13</th>\n",
       "      <td>jonas-vingegaard-rasmussen</td>\n",
       "      <td>3.107175</td>\n",
       "    </tr>\n",
       "    <tr>\n",
       "      <th>98</th>\n",
       "      <td>wout-van-aert</td>\n",
       "      <td>3.239487</td>\n",
       "    </tr>\n",
       "    <tr>\n",
       "      <th>34</th>\n",
       "      <td>adam-yates</td>\n",
       "      <td>3.268737</td>\n",
       "    </tr>\n",
       "    <tr>\n",
       "      <th>119</th>\n",
       "      <td>mathieu-van-der-poel</td>\n",
       "      <td>3.354197</td>\n",
       "    </tr>\n",
       "    <tr>\n",
       "      <th>41</th>\n",
       "      <td>mattias-skjelmose-jensen</td>\n",
       "      <td>3.376465</td>\n",
       "    </tr>\n",
       "    <tr>\n",
       "      <th>31</th>\n",
       "      <td>pello-bilbao</td>\n",
       "      <td>3.377256</td>\n",
       "    </tr>\n",
       "    <tr>\n",
       "      <th>92</th>\n",
       "      <td>carlos-rodriguez-cano</td>\n",
       "      <td>3.409588</td>\n",
       "    </tr>\n",
       "    <tr>\n",
       "      <th>99</th>\n",
       "      <td>stefan-kung</td>\n",
       "      <td>3.441944</td>\n",
       "    </tr>\n",
       "    <tr>\n",
       "      <th>30</th>\n",
       "      <td>jasper-philipsen</td>\n",
       "      <td>3.517881</td>\n",
       "    </tr>\n",
       "    <tr>\n",
       "      <th>4</th>\n",
       "      <td>enric-mas</td>\n",
       "      <td>3.541255</td>\n",
       "    </tr>\n",
       "    <tr>\n",
       "      <th>149</th>\n",
       "      <td>thomas-pidcock</td>\n",
       "      <td>3.563917</td>\n",
       "    </tr>\n",
       "    <tr>\n",
       "      <th>86</th>\n",
       "      <td>jai-hindley</td>\n",
       "      <td>3.578415</td>\n",
       "    </tr>\n",
       "    <tr>\n",
       "      <th>56</th>\n",
       "      <td>christophe-laporte</td>\n",
       "      <td>3.585813</td>\n",
       "    </tr>\n",
       "    <tr>\n",
       "      <th>68</th>\n",
       "      <td>david-gaudu</td>\n",
       "      <td>3.608472</td>\n",
       "    </tr>\n",
       "    <tr>\n",
       "      <th>111</th>\n",
       "      <td>simon-yates</td>\n",
       "      <td>3.614798</td>\n",
       "    </tr>\n",
       "    <tr>\n",
       "      <th>151</th>\n",
       "      <td>tadej-pogacar</td>\n",
       "      <td>3.643433</td>\n",
       "    </tr>\n",
       "    <tr>\n",
       "      <th>101</th>\n",
       "      <td>romain-bardet</td>\n",
       "      <td>3.648909</td>\n",
       "    </tr>\n",
       "    <tr>\n",
       "      <th>167</th>\n",
       "      <td>richard-carapaz</td>\n",
       "      <td>3.697369</td>\n",
       "    </tr>\n",
       "    <tr>\n",
       "      <th>29</th>\n",
       "      <td>daniel-felipe-martinez</td>\n",
       "      <td>3.715704</td>\n",
       "    </tr>\n",
       "    <tr>\n",
       "      <th>97</th>\n",
       "      <td>julian-alaphilippe</td>\n",
       "      <td>3.725993</td>\n",
       "    </tr>\n",
       "  </tbody>\n",
       "</table>\n",
       "</div>"
      ],
      "text/plain": [
       "                          rider      pred\n",
       "13   jonas-vingegaard-rasmussen  3.107175\n",
       "98                wout-van-aert  3.239487\n",
       "34                   adam-yates  3.268737\n",
       "119        mathieu-van-der-poel  3.354197\n",
       "41     mattias-skjelmose-jensen  3.376465\n",
       "31                 pello-bilbao  3.377256\n",
       "92        carlos-rodriguez-cano  3.409588\n",
       "99                  stefan-kung  3.441944\n",
       "30             jasper-philipsen  3.517881\n",
       "4                     enric-mas  3.541255\n",
       "149              thomas-pidcock  3.563917\n",
       "86                  jai-hindley  3.578415\n",
       "56           christophe-laporte  3.585813\n",
       "68                  david-gaudu  3.608472\n",
       "111                 simon-yates  3.614798\n",
       "151               tadej-pogacar  3.643433\n",
       "101               romain-bardet  3.648909\n",
       "167             richard-carapaz  3.697369\n",
       "29       daniel-felipe-martinez  3.715704\n",
       "97           julian-alaphilippe  3.725993"
      ]
     },
     "execution_count": 242,
     "metadata": {},
     "output_type": "execute_result"
    }
   ],
   "source": [
    "#Some good riders for the scorito poule\n",
    "df = pd.DataFrame({'rider': riders_2023, 'pred': pred_2023}).sort_values('pred')\n",
    "df.head(20)"
   ]
  },
  {
   "cell_type": "code",
   "execution_count": 239,
   "id": "4ccd7d68",
   "metadata": {},
   "outputs": [
    {
     "name": "stdout",
     "output_type": "stream",
     "text": [
      "jordi-meeus 4.413119543162442\n",
      "dylan-groenewegen 4.288011630306735\n",
      "biniam-girmay 3.9556466990258605\n",
      "bryan-coquard 4.338984268627281\n",
      "mark-cavendish 4.365444846750352\n",
      "jasper-philipsen 3.517881020813983\n",
      "phil-bauhaus 4.450808210170355\n",
      "peter-sagan 4.419303145053452\n",
      "luca-mozzato 4.38446401056438\n",
      "danny-van-poppel 4.397188858163872\n",
      "alex-aranburu 4.014440804374799\n"
     ]
    }
   ],
   "source": [
    "def get_rider_pred(substr):\n",
    "    df_ = df[df['rider'].str.contains(substr)]\n",
    "    print(df_['rider'].iloc[0], df_['pred'].iloc[0])\n",
    "\n",
    "get_rider_pred('meeus')\n",
    "get_rider_pred('groenewegen')\n",
    "get_rider_pred('girmay')\n",
    "get_rider_pred('coquard')\n",
    "get_rider_pred('cavendish')\n",
    "get_rider_pred('philipsen')\n",
    "get_rider_pred('bauhaus')\n",
    "get_rider_pred('sagan')\n",
    "get_rider_pred('mozz')\n",
    "get_rider_pred('poppel')\n",
    "get_rider_pred('aranburu')"
   ]
  },
  {
   "cell_type": "code",
   "execution_count": 240,
   "id": "c9049c68",
   "metadata": {},
   "outputs": [
    {
     "name": "stdout",
     "output_type": "stream",
     "text": [
      "ben-o-connor 3.7866014950826234\n",
      "romain-bardet 3.648908997759658\n",
      "david-gaudu 3.608471655125216\n",
      "louis-meintjes 4.19797254172333\n",
      "guillaume-martin 3.8171179015333645\n",
      "mikel-landa 3.8317886245377974\n",
      "carlos-rodriguez-cano 3.4095877132520833\n",
      "enric-mas 3.541254798321532\n",
      "pello-bilbao 3.3772556648073615\n"
     ]
    }
   ],
   "source": [
    "get_rider_pred('connor')\n",
    "get_rider_pred('bardet')\n",
    "get_rider_pred('gaudu')\n",
    "get_rider_pred('meintjes')\n",
    "get_rider_pred('guillaume-martin')\n",
    "get_rider_pred('landa')\n",
    "get_rider_pred('rodriguez')\n",
    "get_rider_pred('enric-mas')\n",
    "get_rider_pred('bilbao')"
   ]
  },
  {
   "cell_type": "code",
   "execution_count": 241,
   "id": "75b14b60",
   "metadata": {},
   "outputs": [
    {
     "name": "stdout",
     "output_type": "stream",
     "text": [
      "mathieu-van-der-poel 3.35419704561097\n",
      "neilson-powless 3.72633597060312\n",
      "thomas-pidcock 3.563916536460713\n",
      "julian-alaphilippe 3.7259931691830093\n",
      "giulio-ciccone 3.8699173678376226\n"
     ]
    }
   ],
   "source": [
    "get_rider_pred('van-der-poel')\n",
    "get_rider_pred('powless')\n",
    "get_rider_pred('pidcock')\n",
    "get_rider_pred('alaphi')\n",
    "get_rider_pred('cicco')"
   ]
  },
  {
   "cell_type": "code",
   "execution_count": null,
   "id": "fd34c52b",
   "metadata": {},
   "outputs": [],
   "source": [
    "a yates, mohoric, kung, bilbao, s yates, rodriguez, laporte, mvdwp, wva, pidcock"
   ]
  },
  {
   "cell_type": "code",
   "execution_count": null,
   "id": "749dba41",
   "metadata": {},
   "outputs": [],
   "source": []
  },
  {
   "cell_type": "code",
   "execution_count": null,
   "id": "e8ada6c1",
   "metadata": {},
   "outputs": [],
   "source": []
  }
 ],
 "metadata": {
  "kernelspec": {
   "display_name": "Python 3 (ipykernel)",
   "language": "python",
   "name": "python3"
  },
  "language_info": {
   "codemirror_mode": {
    "name": "ipython",
    "version": 3
   },
   "file_extension": ".py",
   "mimetype": "text/x-python",
   "name": "python",
   "nbconvert_exporter": "python",
   "pygments_lexer": "ipython3",
   "version": "3.10.4"
  }
 },
 "nbformat": 4,
 "nbformat_minor": 5
}
